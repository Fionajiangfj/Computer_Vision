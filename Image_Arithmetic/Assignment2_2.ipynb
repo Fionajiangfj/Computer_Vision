{
 "cells": [
  {
   "cell_type": "code",
   "execution_count": null,
   "id": "88f8319e-de02-4044-99c3-6ec688ac5501",
   "metadata": {},
   "outputs": [
    {
     "name": "stderr",
     "output_type": "stream",
     "text": [
      "2025-02-05 18:40:27.386 python[3866:216036] +[IMKClient subclass]: chose IMKClient_Modern\n",
      "2025-02-05 18:40:27.386 python[3866:216036] +[IMKInputSession subclass]: chose IMKInputSession_Modern\n"
     ]
    }
   ],
   "source": [
    "import numpy as np\n",
    "import cv2 as cv\n",
    "import time\n",
    " \n",
    "drawing = False # true if mouse is pressed\n",
    "mode = True # if True, draw rectangle. Press 'm' to toggle to curve\n",
    "ix,iy = -1,-1\n",
    " \n",
    "# mouse callback function\n",
    "def draw_circle(event,x,y,flags,param):\n",
    "    global ix,iy,drawing,mode\n",
    " \n",
    "    if event == cv.EVENT_LBUTTONDOWN:\n",
    "        drawing = True\n",
    "        ix,iy = x,y\n",
    " \n",
    "    elif event == cv.EVENT_MOUSEMOVE:\n",
    "        if drawing == True:\n",
    "            if mode == True:\n",
    "                cv.rectangle(img,(ix,iy),(x,y),(190,123,222),2)\n",
    "            else:\n",
    "                cv.circle(img,(x,y),5,(123,222,190),2)\n",
    " \n",
    "    elif event == cv.EVENT_LBUTTONUP:\n",
    "        drawing = False\n",
    "        if mode == True:\n",
    "            # When the mouse is released, draw the rectangle permanently\n",
    "            cv.rectangle(img,(ix,iy),(x,y),(190,123,222),2) # thickness=2\n",
    "        else:\n",
    "            # When the mouse is released, draw the circle permanently\n",
    "            cv.circle(img,(x,y),5,(123,222,190),2) # thickness=2\n",
    "\n",
    "img = np.zeros((512,512,3), np.uint8)\n",
    "cv.namedWindow('image')\n",
    "cv.setMouseCallback('image',draw_circle)\n",
    " \n",
    "while(1):\n",
    "    cv.imshow('image',img)\n",
    "\n",
    "    # Lower the refresh rate by adding a small delay\n",
    "    time.sleep(0.03)  # 30ms delay\n",
    "    \n",
    "    k = cv.waitKey(1) & 0xFF\n",
    "    if k == ord('m'):\n",
    "        mode = not mode\n",
    "    elif k == 27:\n",
    "        break\n",
    " \n",
    "cv.destroyAllWindows()"
   ]
  },
  {
   "cell_type": "code",
   "execution_count": null,
   "id": "a5c92bbd-7b7e-45d7-86b6-b18ce8b53b98",
   "metadata": {},
   "outputs": [
    {
     "name": "stderr",
     "output_type": "stream",
     "text": [
      "[ WARN:0@0.101] global loadsave.cpp:248 findDecoder imread_('your_image.jpg'): can't open/read file: check file path/integrity\n",
      "2025-02-05 18:41:35.128 python[3880:216992] +[IMKClient subclass]: chose IMKClient_Modern\n",
      "2025-02-05 18:41:35.128 python[3880:216992] +[IMKInputSession subclass]: chose IMKInputSession_Modern\n"
     ]
    }
   ],
   "source": [
    " # (Optional) Drawing Polylines & Polygons and Saving the Image\n",
    "import cv2\n",
    "import numpy as np\n",
    "\n",
    "# Global list to store points\n",
    "points = []\n",
    "drawing_polygon = False  # If True, we draw a closed polygon instead of a polyline\n",
    "\n",
    "def mouse_callback(event, x, y, flags, param):\n",
    "    global points\n",
    "    if event == cv2.EVENT_LBUTTONDOWN:\n",
    "        # Each left mouse click, add a point to the list\n",
    "        points.append((x, y))\n",
    "\n",
    "# Replace with any local image path or continue with a black image\n",
    "img = cv2.imread('your_image.jpg') \n",
    "if img is None:\n",
    "    # Fallback: create a black image if loading fails\n",
    "    img = np.zeros((512, 512, 3), dtype=np.uint8)\n",
    "\n",
    "cv2.namedWindow('DrawingPolylinesPolygons')\n",
    "cv2.setMouseCallback('DrawingPolylinesPolygons', mouse_callback)\n",
    "\n",
    "while True:\n",
    "    # Make a copy of the original image so we can draw on top of it each frame\n",
    "    temp_img = img.copy()\n",
    "\n",
    "    if len(points) > 1:\n",
    "        # If we have at least 2 points, we can start drawing lines\n",
    "        # Convert points to a NumPy array\n",
    "        pts = np.array(points, np.int32)\n",
    "        # If polygon: cv2.polylines with isClosed=True, or cv2.fillPoly, etc.\n",
    "        if drawing_polygon:\n",
    "            cv2.polylines(temp_img, [pts], True, (0, 255, 255), thickness=2)  # closed shape\n",
    "        else:\n",
    "            cv2.polylines(temp_img, [pts], False, (0, 255, 255), thickness=2) # open shape\n",
    "\n",
    "    # Display text instructions\n",
    "    cv2.putText(temp_img, \"'p' toggle polyline/polygon, 'r' reset, 'x' save, ESC exit\",\n",
    "                (10, 30), cv2.FONT_HERSHEY_SIMPLEX, 0.7, (255,255,255), 2)\n",
    "\n",
    "    cv2.imshow('DrawingPolylinesPolygons', temp_img)\n",
    "    key = cv2.waitKey(1) & 0xFF\n",
    "\n",
    "    if key == 27:  # ESC to exit\n",
    "        break\n",
    "    elif key == ord('r'):\n",
    "        # Reset / clear points\n",
    "        points = []\n",
    "    elif key == ord('p'):\n",
    "        # Toggle polygon mode\n",
    "        drawing_polygon = not drawing_polygon\n",
    "    elif key == ord('x'):\n",
    "        # Save the current drawn image\n",
    "        cv2.imwrite('output_drawing.png', temp_img)\n",
    "        print(\"Image saved to output_drawing.png\")\n",
    "\n",
    "cv2.destroyAllWindows()\n"
   ]
  },
  {
   "cell_type": "code",
   "execution_count": null,
   "id": "50410644-c587-4b39-a7fc-20e31a734542",
   "metadata": {},
   "outputs": [],
   "source": []
  }
 ],
 "metadata": {
  "kernelspec": {
   "display_name": "Python 3 (ipykernel)",
   "language": "python",
   "name": "python3"
  },
  "language_info": {
   "codemirror_mode": {
    "name": "ipython",
    "version": 3
   },
   "file_extension": ".py",
   "mimetype": "text/x-python",
   "name": "python",
   "nbconvert_exporter": "python",
   "pygments_lexer": "ipython3",
   "version": "3.11.5"
  }
 },
 "nbformat": 4,
 "nbformat_minor": 5
}
