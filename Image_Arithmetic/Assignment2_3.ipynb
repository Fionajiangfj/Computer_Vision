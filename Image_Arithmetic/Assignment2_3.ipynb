{
 "cells": [
  {
   "cell_type": "code",
   "execution_count": 1,
   "id": "0c5541d9-af23-4157-afef-3e0f916b675a",
   "metadata": {},
   "outputs": [
    {
     "name": "stdout",
     "output_type": "stream",
     "text": [
      "Displaying original image. Press any key in the image window to continue.\n"
     ]
    },
    {
     "name": "stderr",
     "output_type": "stream",
     "text": [
      "2025-02-05 19:32:30.901 python[5582:264375] +[IMKClient subclass]: chose IMKClient_Modern\n",
      "2025-02-05 19:32:30.901 python[5582:264375] +[IMKInputSession subclass]: chose IMKInputSession_Modern\n"
     ]
    },
    {
     "name": "stdout",
     "output_type": "stream",
     "text": [
      "\n",
      "Choose an operation:\n",
      "  R: Rotate\n",
      "  S: Resize\n",
      "  P: Perspective Transformation\n",
      "  E: Exit\n"
     ]
    },
    {
     "name": "stdin",
     "output_type": "stream",
     "text": [
      "Enter your choice:  r\n",
      "Enter angle in degrees (positive for clockwise, negative for counterclockwise):  25\n"
     ]
    },
    {
     "name": "stdout",
     "output_type": "stream",
     "text": [
      "Rotated image displayed. Press any key in the image window to continue.\n",
      "\n",
      "Choose an operation:\n",
      "  R: Rotate\n",
      "  S: Resize\n",
      "  P: Perspective Transformation\n",
      "  E: Exit\n"
     ]
    },
    {
     "name": "stdin",
     "output_type": "stream",
     "text": [
      "Enter your choice:  e\n"
     ]
    },
    {
     "name": "stdout",
     "output_type": "stream",
     "text": [
      "Exiting...\n"
     ]
    }
   ],
   "source": [
    "import cv2\n",
    "import numpy as np\n",
    "\n",
    "def main():\n",
    "    # 1. Open a color image and display it\n",
    "    img_path = 'luffy.jpg'  # Replace with your own image path\n",
    "    img = cv2.imread(img_path)\n",
    "    if img is None:\n",
    "        print(\"Error: Could not open or find the image.\")\n",
    "        return\n",
    "\n",
    "    # Display the original image in a window\n",
    "    cv2.imshow('Original Image', img)\n",
    "    print(\"Displaying original image. Press any key in the image window to continue.\")\n",
    "    cv2.waitKey(0)\n",
    "    cv2.destroyWindow('Original Image')\n",
    "\n",
    "    # 2. Loop until exit\n",
    "    while True:\n",
    "        print(\"\\nChoose an operation:\")\n",
    "        print(\"  R: Rotate\")\n",
    "        print(\"  S: Resize\")\n",
    "        print(\"  P: Perspective Transformation\")\n",
    "        print(\"  E: Exit\")\n",
    "        choice = input(\"Enter your choice: \").strip().lower()\n",
    "\n",
    "        if choice == 'r':\n",
    "            # 3. Rotation\n",
    "            angle_str = input(\"Enter angle in degrees (positive for clockwise, negative for counterclockwise): \")\n",
    "            try:\n",
    "                angle = float(angle_str)\n",
    "            except ValueError:\n",
    "                print(\"Invalid angle. Please try again.\")\n",
    "                continue\n",
    "\n",
    "            rows, cols = img.shape[:2]\n",
    "            # Get the rotation matrix around the center of the image\n",
    "            M = cv2.getRotationMatrix2D((cols/2, rows/2), angle, 1.0)\n",
    "            # Perform the affine transformation (rotation)\n",
    "            rotated_img = cv2.warpAffine(img, M, (cols, rows))\n",
    "\n",
    "            cv2.imshow('Rotated Image', rotated_img)\n",
    "            print(\"Rotated image displayed. Press any key in the image window to continue.\")\n",
    "            cv2.waitKey(0)\n",
    "            cv2.destroyWindow('Rotated Image')\n",
    "\n",
    "            # Paste a sample of the rotated image in your assignment.\n",
    "            # For example:\n",
    "            #   - Rotate 25 degrees clockwise: Paste sample screenshot\n",
    "            #   - Rotate 50 degrees CCW: Paste sample screenshot\n",
    "\n",
    "        elif choice == 's':\n",
    "            # 4. Resizing\n",
    "            fx_str = input(\"Enter resize factor for width (fx): \")\n",
    "            fy_str = input(\"Enter resize factor for height (fy): \")\n",
    "            try:\n",
    "                fx = float(fx_str)\n",
    "                fy = float(fy_str)\n",
    "            except ValueError:\n",
    "                print(\"Invalid resize factors. Please try again.\")\n",
    "                continue\n",
    "\n",
    "            # Resize the image\n",
    "            resized_img = cv2.resize(img, None, fx=fx, fy=fy, interpolation=cv2.INTER_LINEAR)\n",
    "            cv2.imshow('Resized Image', resized_img)\n",
    "            print(\"Resized image displayed. Press any key in the image window to continue.\")\n",
    "            cv2.waitKey(0)\n",
    "            cv2.destroyWindow('Resized Image')\n",
    "\n",
    "            # Paste a sample (e.g., double width, half height) in your assignment.\n",
    "\n",
    "        elif choice == 'p':\n",
    "            # 5. Perspective Transformation\n",
    "            # Given the homography (transformation) matrix:\n",
    "            # H =  0.4   -0.4   190\n",
    "            #       0.15   0.4   100\n",
    "            #       0      0     1\n",
    "            H = np.array([\n",
    "                [0.4, -0.4, 190],\n",
    "                [0.15, 0.4, 100],\n",
    "                [0.0,  0.0,   1.0]\n",
    "            ], dtype=float)\n",
    "\n",
    "            rows, cols = img.shape[:2]\n",
    "            # Apply warpPerspective using the same image size\n",
    "            perspective_img = cv2.warpPerspective(img, H, (cols, rows))\n",
    "\n",
    "            cv2.imshow('Perspective Transform', perspective_img)\n",
    "            print(\"Perspective transformed image displayed. Press any key in the image window to continue.\")\n",
    "            cv2.waitKey(0)\n",
    "            cv2.destroyWindow('Perspective Transform')\n",
    "\n",
    "            # Paste a sample of the perspective-transformed image here.\n",
    "\n",
    "        elif choice == 'e':\n",
    "            # Exit the program\n",
    "            print(\"Exiting...\")\n",
    "            break\n",
    "        else:\n",
    "            print(\"Invalid choice. Please try again.\")\n",
    "\n",
    "    cv2.destroyAllWindows()\n",
    "\n",
    "if __name__ == '__main__':\n",
    "    main()\n"
   ]
  },
  {
   "cell_type": "code",
   "execution_count": null,
   "id": "e6886ab1-2f72-47e3-a90c-0224c9ec1201",
   "metadata": {},
   "outputs": [],
   "source": []
  }
 ],
 "metadata": {
  "kernelspec": {
   "display_name": "Python 3 (ipykernel)",
   "language": "python",
   "name": "python3"
  },
  "language_info": {
   "codemirror_mode": {
    "name": "ipython",
    "version": 3
   },
   "file_extension": ".py",
   "mimetype": "text/x-python",
   "name": "python",
   "nbconvert_exporter": "python",
   "pygments_lexer": "ipython3",
   "version": "3.11.5"
  }
 },
 "nbformat": 4,
 "nbformat_minor": 5
}
